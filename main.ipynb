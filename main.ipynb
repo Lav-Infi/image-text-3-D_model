{
 "cells": [
  {
   "cell_type": "markdown",
   "id": "76844ef2",
   "metadata": {},
   "source": [
    "\n",
    "# Photo/Text to Simple 3D Model Prototype\n",
    "\n",
    "This notebook demonstrates converting an image or a text prompt into a basic 3D model (.obj). It supports:\n",
    "- Image input with background removal.\n",
    "- Simple dummy 3D model generation for both image and text inputs.\n",
    "- Visualization of the generated 3D model.\n"
   ]
  },
  {
   "cell_type": "code",
   "execution_count": null,
   "id": "05b0b5d1",
   "metadata": {},
   "outputs": [],
   "source": [
    "\n",
    "!pip install rembg onnxruntime trimesh pyrender matplotlib opencv-python\n"
   ]
  },
  {
   "cell_type": "code",
   "execution_count": null,
   "id": "7d87d486",
   "metadata": {},
   "outputs": [],
   "source": [
    "\n",
    "from rembg import remove\n",
    "import cv2\n",
    "import numpy as np\n",
    "from google.colab import files\n",
    "\n",
    "uploaded = files.upload()\n",
    "input_path = next(iter(uploaded))\n",
    "output_path = \"no_bg.png\"\n",
    "\n",
    "with open(input_path, \"rb\") as i:\n",
    "    with open(output_path, \"wb\") as o:\n",
    "        o.write(remove(i.read()))\n"
   ]
  },
  {
   "cell_type": "code",
   "execution_count": null,
   "id": "30b1fc9c",
   "metadata": {},
   "outputs": [],
   "source": [
    "\n",
    "import trimesh\n",
    "\n",
    "def generate_dummy_obj(output_file='output.obj'):\n",
    "    mesh = trimesh.creation.box(extents=(1.0, 1.0, 1.0))\n",
    "    mesh.export(output_file)\n",
    "    print(f\"Saved dummy 3D model: {output_file}\")\n",
    "    return output_file\n",
    "\n",
    "obj_file = generate_dummy_obj()\n"
   ]
  },
  {
   "cell_type": "code",
   "execution_count": null,
   "id": "e692c3bc",
   "metadata": {},
   "outputs": [],
   "source": [
    "\n",
    "import pyrender\n",
    "import matplotlib.pyplot as plt\n",
    "\n",
    "def show_3d_model(path):\n",
    "    mesh = trimesh.load(path)\n",
    "    scene = pyrender.Scene()\n",
    "    scene.add(pyrender.Mesh.from_trimesh(mesh))\n",
    "    viewer = pyrender.OffscreenRenderer(640, 480)\n",
    "    color, _ = viewer.render(scene)\n",
    "    plt.imshow(color)\n",
    "    plt.axis('off')\n",
    "    plt.title('3D Model Preview')\n",
    "    plt.show()\n",
    "\n",
    "show_3d_model(obj_file)\n"
   ]
  },
  {
   "cell_type": "code",
   "execution_count": null,
   "id": "b5115416",
   "metadata": {},
   "outputs": [],
   "source": [
    "\n",
    "# This is a basic fallback dummy 3D model from a text input\n",
    "text_prompt = \"A small toy car\"\n",
    "text_obj_file = \"text_output.obj\"\n",
    "generate_dummy_obj(text_obj_file)\n",
    "show_3d_model(text_obj_file)\n"
   ]
  },
  {
   "cell_type": "code",
   "execution_count": null,
   "id": "498a21f3",
   "metadata": {},
   "outputs": [],
   "source": [
    "\n",
    "files.download(\"output.obj\")\n",
    "files.download(\"text_output.obj\")\n"
   ]
  }
 ],
 "metadata": {},
 "nbformat": 4,
 "nbformat_minor": 5
}
